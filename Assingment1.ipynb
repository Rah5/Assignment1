{
  "nbformat": 4,
  "nbformat_minor": 0,
  "metadata": {
    "colab": {
      "provenance": []
    },
    "kernelspec": {
      "name": "python3",
      "display_name": "Python 3"
    },
    "language_info": {
      "name": "python"
    }
  },
  "cells": [
    {
      "cell_type": "markdown",
      "source": [
        "1. What is Python, and why is it popular?\n",
        "-- Python is a popular programming language.It is commonly used for developing websites and software, task automation, data analysis and data visualisation.\n",
        "It is popular because it's easy to learn, open source, portable, well-supported, integrated and user friendly.\n",
        "\n",
        "2. What is an interpreter in Python?\n",
        "-- A Python interpreter is a program that reads ands executes Python code line by line, allowing the user to see the results immediately.The interpreter translates the code into machine readable bytecode and then executes it.\n",
        "\n",
        "3. What are pre-defined keywords in Python?\n",
        "-- pre-defined keywords in python are those keywords that python reserves for working programs that have a specific meaning.\n",
        "\n",
        "4. Can keywords be used as variable names?\n",
        "-- No, this is not possible we can not use keywords as variable name, if we do that the compiler shows an error and the code will not execute.\n",
        "\n",
        "5. What is mutability in Python?\n",
        "-- Mutability is the ability of an object to be changed after the creation of that particular object.\n",
        "Mutable objects in python are: lists, dictionaries and sets.\n",
        "\n",
        "6. Why are lists mutable, but tuples are immutable?\n",
        "-- In Python, lists are considered mutable because they can be changed after creation, while tuples are immutable, meaning their contents cannot be modified once created; this design choice allows tuples to be used for data that should remain constant, while lists are better for situations where you need to frequently add, remove, or update elements within a sequence.\n",
        "\n",
        "7. What is the difference between “==” and “is” operators in Python?\n",
        "-- The '==' is known as the equality operator. The 'is' is known as the identity operator. The == operator helps us compare the equality of objects. The is operator helps us check whether different variables point towards a similar object in the memory.\n",
        "\n",
        "8. What are logical operators in Python?\n",
        "-- logical operators are used to combine multiple conditions together and evaluate them as a single boolean expression. There are three types of logical operators in Python: `and`, `or`, and `not`. The `and` operator returns `True` if both conditions it is evaluating are true, otherwise it returns `False`.\n",
        "\n",
        "9. What is type casting in Python?\n",
        "-- Type casting, also known as type conversion, is the process of converting one data type into another.\n",
        "\n",
        "10. What is the difference between implicit and explicit type casting?\n",
        "--  Implicit type casting happens automatically when converting data types, while explicit type casting requires a manual instruction from the programmer to convert a value from one type to another.\n",
        "\n",
        "11. What is the purpose of conditional statements in Python?\n",
        "--  Conditional statements in Python allow you to control the flow of your program based on specific conditions. They help you make decisions in your code, executing different blocks of code depending on whether a condition evaluates to True or False.\n",
        "\n",
        "12. How does the elif statement work?\n",
        "--  The “elif” keyword in Python, stands for “else if”. It can be used in conditional statements to check for multiple conditions. For example, if the first condition is false, it moves on to the next “elif” statement to check if that condition is true.\n",
        "\n",
        "13. What is the difference between for and while loops?\n",
        "--  Both for loop and while loop is used to execute the statements repeatedly while the program runs. The major difference between for loop and while loop is that for loop is used when the number of iterations is known, whereas execution is done in a while loop until the statement in the program is proved wrong.\n",
        "\n",
        "14. Describe a scenario where a while loop is more suitable than a for loop?\n",
        "--  In contrast to a 'for' loop, which is generally used when the number of iterations is known beforehand, a 'while' loop is ideal for situations where the number of iterations is not predetermined and depends on some dynamic condition."
      ],
      "metadata": {
        "id": "3p7_I0SpVXJ5"
      }
    },
    {
      "cell_type": "code",
      "source": [
        "#Question1. Write a Python program to print \"Hello, World!\".\n",
        "print(\"Hello World!.\")"
      ],
      "metadata": {
        "colab": {
          "base_uri": "https://localhost:8080/"
        },
        "id": "2bo2OZXyrAxW",
        "outputId": "6c8b9804-ba5b-49ab-e270-0e060b280ca3"
      },
      "execution_count": 2,
      "outputs": [
        {
          "output_type": "stream",
          "name": "stdout",
          "text": [
            "Hello World!.\n"
          ]
        }
      ]
    },
    {
      "cell_type": "code",
      "source": [
        "#Question2. Write a Python program that displays your name and age.\n",
        "name = \"Rahul Kumar\"\n",
        "age = 22\n",
        "nameage = \"{} is my Name and I'm {} years Old\".format(name, age)\n",
        "print(nameage)"
      ],
      "metadata": {
        "colab": {
          "base_uri": "https://localhost:8080/"
        },
        "id": "SNWOVye5q4cB",
        "outputId": "3cc4947c-3b1b-45d4-f2cb-67974172baf3"
      },
      "execution_count": 3,
      "outputs": [
        {
          "output_type": "stream",
          "name": "stdout",
          "text": [
            "Rahul Kumar is my Name and I'm 22 years Old\n"
          ]
        }
      ]
    },
    {
      "cell_type": "code",
      "source": [
        "#Question3. Write code to print all the pre-defined keywords in Python using the keyword library.\n",
        "import keyword\n",
        "print(keyword.kwlist)"
      ],
      "metadata": {
        "id": "Y2DuYzEnVatI",
        "colab": {
          "base_uri": "https://localhost:8080/"
        },
        "outputId": "32650668-f03a-48a2-d38c-f91afb8fc7c1"
      },
      "execution_count": 4,
      "outputs": [
        {
          "output_type": "stream",
          "name": "stdout",
          "text": [
            "['False', 'None', 'True', 'and', 'as', 'assert', 'async', 'await', 'break', 'class', 'continue', 'def', 'del', 'elif', 'else', 'except', 'finally', 'for', 'from', 'global', 'if', 'import', 'in', 'is', 'lambda', 'nonlocal', 'not', 'or', 'pass', 'raise', 'return', 'try', 'while', 'with', 'yield']\n"
          ]
        }
      ]
    },
    {
      "cell_type": "code",
      "source": [
        "#Question4. Write a program that checks if a given word is a Python keyword.\n",
        "import keyword\n",
        "\n",
        "word = \"Rahul\"\n",
        "if word in keyword.kwlist:\n",
        "  print(\"The word is a keyword\")\n",
        "else:\n",
        "  print(\"The word is not a keyword\")"
      ],
      "metadata": {
        "colab": {
          "base_uri": "https://localhost:8080/"
        },
        "id": "F5f4kGzIushh",
        "outputId": "0c4cf50e-5e7e-45af-d9a6-173a122b6d2e"
      },
      "execution_count": 13,
      "outputs": [
        {
          "output_type": "stream",
          "name": "stdout",
          "text": [
            "The word is not a keyword\n"
          ]
        }
      ]
    },
    {
      "cell_type": "code",
      "source": [
        "#Question5.Create a list and tuple in Python, and demonstrate how attempting to change an element works differently for each.\n",
        "#this is a example of a list and changing item in the list.\n",
        "list1 = [\"rahul\", \"amit\", \"ajay\", \"sumit\",20,25,30,35,40,45.5]\n",
        "list1[2]=\"kumar\"\n",
        "print(list1)\n",
        "\n"
      ],
      "metadata": {
        "colab": {
          "base_uri": "https://localhost:8080/"
        },
        "id": "JXgxeCjku3iW",
        "outputId": "bd857e70-b539-4050-8275-df51cae4a139"
      },
      "execution_count": 16,
      "outputs": [
        {
          "output_type": "stream",
          "name": "stdout",
          "text": [
            "['rahul', 'amit', 'kumar', 'sumit', 20, 25, 30, 35, 40, 45.5]\n"
          ]
        }
      ]
    },
    {
      "cell_type": "code",
      "source": [
        "#this is the example of tuple\n",
        "tuple1 = (\"rahul\", \"amit\", \"ajay\", \"sumit\",20,25,30,35,40,45.5)\n",
        "tuple1[4] = True\n",
        "print(tuple1)\n",
        "#In tuple you can not change or update the value."
      ],
      "metadata": {
        "colab": {
          "base_uri": "https://localhost:8080/",
          "height": 221
        },
        "id": "KtpLIcYKyHLH",
        "outputId": "f741929a-a8f4-402c-d0f0-68744976b021"
      },
      "execution_count": 17,
      "outputs": [
        {
          "output_type": "error",
          "ename": "TypeError",
          "evalue": "'tuple' object does not support item assignment",
          "traceback": [
            "\u001b[0;31m---------------------------------------------------------------------------\u001b[0m",
            "\u001b[0;31mTypeError\u001b[0m                                 Traceback (most recent call last)",
            "\u001b[0;32m<ipython-input-17-0f7671e5f1dc>\u001b[0m in \u001b[0;36m<cell line: 3>\u001b[0;34m()\u001b[0m\n\u001b[1;32m      1\u001b[0m \u001b[0;31m#this is the example of tuple\u001b[0m\u001b[0;34m\u001b[0m\u001b[0;34m\u001b[0m\u001b[0m\n\u001b[1;32m      2\u001b[0m \u001b[0mtuple1\u001b[0m \u001b[0;34m=\u001b[0m \u001b[0;34m(\u001b[0m\u001b[0;34m\"rahul\"\u001b[0m\u001b[0;34m,\u001b[0m \u001b[0;34m\"amit\"\u001b[0m\u001b[0;34m,\u001b[0m \u001b[0;34m\"ajay\"\u001b[0m\u001b[0;34m,\u001b[0m \u001b[0;34m\"sumit\"\u001b[0m\u001b[0;34m,\u001b[0m\u001b[0;36m20\u001b[0m\u001b[0;34m,\u001b[0m\u001b[0;36m25\u001b[0m\u001b[0;34m,\u001b[0m\u001b[0;36m30\u001b[0m\u001b[0;34m,\u001b[0m\u001b[0;36m35\u001b[0m\u001b[0;34m,\u001b[0m\u001b[0;36m40\u001b[0m\u001b[0;34m,\u001b[0m\u001b[0;36m45.5\u001b[0m\u001b[0;34m)\u001b[0m\u001b[0;34m\u001b[0m\u001b[0;34m\u001b[0m\u001b[0m\n\u001b[0;32m----> 3\u001b[0;31m \u001b[0mtuple1\u001b[0m\u001b[0;34m[\u001b[0m\u001b[0;36m4\u001b[0m\u001b[0;34m]\u001b[0m \u001b[0;34m=\u001b[0m \u001b[0;32mTrue\u001b[0m\u001b[0;34m\u001b[0m\u001b[0;34m\u001b[0m\u001b[0m\n\u001b[0m\u001b[1;32m      4\u001b[0m \u001b[0mprint\u001b[0m\u001b[0;34m(\u001b[0m\u001b[0mtuple1\u001b[0m\u001b[0;34m)\u001b[0m\u001b[0;34m\u001b[0m\u001b[0;34m\u001b[0m\u001b[0m\n\u001b[1;32m      5\u001b[0m \u001b[0;31m#In tuple you can not change or update the value.\u001b[0m\u001b[0;34m\u001b[0m\u001b[0;34m\u001b[0m\u001b[0m\n",
            "\u001b[0;31mTypeError\u001b[0m: 'tuple' object does not support item assignment"
          ]
        }
      ]
    },
    {
      "cell_type": "code",
      "source": [
        "#Question6.  Write a function to demonstrate the behavior of mutable and immutable arguments.\n",
        "#Mutable arguments are lists\n",
        "a = [\"abishek\",22,\"delhi\",\"SE\"]\n",
        "a[2]=\"Delhi\"\n",
        "print(a)"
      ],
      "metadata": {
        "colab": {
          "base_uri": "https://localhost:8080/"
        },
        "id": "_lNJbLH_zlR2",
        "outputId": "ebe2941f-4a9b-4f9f-b47d-2ddbfc65bd62"
      },
      "execution_count": 18,
      "outputs": [
        {
          "output_type": "stream",
          "name": "stdout",
          "text": [
            "['abishek', 22, 'Delhi', 'SE']\n"
          ]
        }
      ]
    },
    {
      "cell_type": "code",
      "source": [
        "#Immutable arguments are strings\n",
        "a = \"AmitabhBachchan\"\n",
        "a[-1]=\"l\"\n",
        "print(a)"
      ],
      "metadata": {
        "colab": {
          "base_uri": "https://localhost:8080/",
          "height": 202
        },
        "id": "_YSnBxRP0GBO",
        "outputId": "d22efbde-36fa-4fb7-c104-12a8c5b1059b"
      },
      "execution_count": 19,
      "outputs": [
        {
          "output_type": "error",
          "ename": "TypeError",
          "evalue": "'str' object does not support item assignment",
          "traceback": [
            "\u001b[0;31m---------------------------------------------------------------------------\u001b[0m",
            "\u001b[0;31mTypeError\u001b[0m                                 Traceback (most recent call last)",
            "\u001b[0;32m<ipython-input-19-a94462617dfb>\u001b[0m in \u001b[0;36m<cell line: 3>\u001b[0;34m()\u001b[0m\n\u001b[1;32m      1\u001b[0m \u001b[0;31m#Immutable arguments are strings\u001b[0m\u001b[0;34m\u001b[0m\u001b[0;34m\u001b[0m\u001b[0m\n\u001b[1;32m      2\u001b[0m \u001b[0ma\u001b[0m \u001b[0;34m=\u001b[0m \u001b[0;34m\"AmitabhBachchan\"\u001b[0m\u001b[0;34m\u001b[0m\u001b[0;34m\u001b[0m\u001b[0m\n\u001b[0;32m----> 3\u001b[0;31m \u001b[0ma\u001b[0m\u001b[0;34m[\u001b[0m\u001b[0;34m-\u001b[0m\u001b[0;36m1\u001b[0m\u001b[0;34m]\u001b[0m\u001b[0;34m=\u001b[0m\u001b[0;34m\"l\"\u001b[0m\u001b[0;34m\u001b[0m\u001b[0;34m\u001b[0m\u001b[0m\n\u001b[0m\u001b[1;32m      4\u001b[0m \u001b[0mprint\u001b[0m\u001b[0;34m(\u001b[0m\u001b[0ma\u001b[0m\u001b[0;34m)\u001b[0m\u001b[0;34m\u001b[0m\u001b[0;34m\u001b[0m\u001b[0m\n",
            "\u001b[0;31mTypeError\u001b[0m: 'str' object does not support item assignment"
          ]
        }
      ]
    },
    {
      "cell_type": "code",
      "source": [
        "#Question8.  Write a program to demonstrate the use of logical operators.\n",
        "#AND\n",
        "x = 10\n",
        "print(x>5 and x<15)\n",
        "\n",
        "#OR\n",
        "x = 20\n",
        "print(x>10 or x<30)\n",
        "\n",
        "#NOT\n",
        "x = 15\n",
        "print(not(x>10 and x<25))"
      ],
      "metadata": {
        "colab": {
          "base_uri": "https://localhost:8080/"
        },
        "id": "Hydc-LOu0i4Z",
        "outputId": "895b2ca8-6132-422d-c0d5-498508722b2d"
      },
      "execution_count": 22,
      "outputs": [
        {
          "output_type": "stream",
          "name": "stdout",
          "text": [
            "True\n",
            "True\n",
            "False\n"
          ]
        }
      ]
    },
    {
      "cell_type": "code",
      "source": [
        "#Question9. Write a Python program to convert user input from string to integer, float, and boolean types.\n",
        "#string to integer\n",
        "ip1 = \"20\"\n",
        "type(int(ip1))\n",
        "print(int(ip1))\n",
        "\n",
        "#string to float\n",
        "ip2 = \"25\"\n",
        "type(float(ip2))\n",
        "print(float(ip2))\n",
        "\n",
        "#string to boolean\n",
        "ip3 = \"Rahul\"\n",
        "type(bool(ip3))\n",
        "print(bool(ip3))"
      ],
      "metadata": {
        "colab": {
          "base_uri": "https://localhost:8080/"
        },
        "id": "U6OKZSlR7cud",
        "outputId": "2d2e389e-29f9-4d97-e9ee-0e2f39365015"
      },
      "execution_count": 34,
      "outputs": [
        {
          "output_type": "stream",
          "name": "stdout",
          "text": [
            "20\n",
            "25.0\n",
            "True\n"
          ]
        }
      ]
    },
    {
      "cell_type": "code",
      "source": [
        "#Question10. Write code to demonstrate type casting with list elements.\n",
        "\n",
        "list_1 = [ \"amit\",\"harish\",\"20.0\",\"25\",\"50\"]\n",
        "list_1[2]\n",
        "print(int(float(list_1[2])))\n",
        "print(bool(list_1[0]))"
      ],
      "metadata": {
        "colab": {
          "base_uri": "https://localhost:8080/"
        },
        "id": "tiU_QXIk9v8x",
        "outputId": "88a277b3-e998-4764-8da6-f125b4b08627"
      },
      "execution_count": 39,
      "outputs": [
        {
          "output_type": "stream",
          "name": "stdout",
          "text": [
            "20\n",
            "True\n"
          ]
        }
      ]
    },
    {
      "cell_type": "code",
      "source": [
        "#Question11. Write a program that checks if a number is positive, negative, or zero.\n",
        "\n",
        "num = 25\n",
        "\n",
        "if (num == 0):\n",
        "  print(\"The number is niether possitive nor negative.\")\n",
        "\n",
        "elif (num > 0):\n",
        "  print(\"The number is possitive (+).\")\n",
        "\n",
        "else:\n",
        "  print(\"The number is negative (-).\")"
      ],
      "metadata": {
        "colab": {
          "base_uri": "https://localhost:8080/"
        },
        "id": "k_UZ6s5V__tE",
        "outputId": "4ef0caba-ab7b-4c11-e857-af1f9001462f"
      },
      "execution_count": 45,
      "outputs": [
        {
          "output_type": "stream",
          "name": "stdout",
          "text": [
            "The number is possitive (+).\n"
          ]
        }
      ]
    },
    {
      "cell_type": "code",
      "source": [
        "#Question12.  Write a for loop to print numbers from 1 to 10.\n",
        "\n",
        "for i in range(1,11):\n",
        "  print(i)"
      ],
      "metadata": {
        "colab": {
          "base_uri": "https://localhost:8080/"
        },
        "id": "Cx6dL-DoCU6Q",
        "outputId": "9bcbc34a-5f43-498b-a879-7ba8a556c3d4"
      },
      "execution_count": 47,
      "outputs": [
        {
          "output_type": "stream",
          "name": "stdout",
          "text": [
            "1\n",
            "2\n",
            "3\n",
            "4\n",
            "5\n",
            "6\n",
            "7\n",
            "8\n",
            "9\n",
            "10\n"
          ]
        }
      ]
    },
    {
      "cell_type": "code",
      "source": [
        "#Question13. Write a Python program to find the sum of all even numbers between 1 and 50.\n",
        "sum = 0\n",
        "for i in range(1,51):\n",
        "  if (i%2 == 0):\n",
        "    sum += i\n",
        "    print(sum)\n",
        "\n",
        "\n"
      ],
      "metadata": {
        "colab": {
          "base_uri": "https://localhost:8080/"
        },
        "id": "fEuGJ-z1Cwwq",
        "outputId": "c0e68831-febf-4147-bdaa-d720fc8991d4"
      },
      "execution_count": 54,
      "outputs": [
        {
          "output_type": "stream",
          "name": "stdout",
          "text": [
            "2\n",
            "6\n",
            "12\n",
            "20\n",
            "30\n",
            "42\n",
            "56\n",
            "72\n",
            "90\n",
            "110\n",
            "132\n",
            "156\n",
            "182\n",
            "210\n",
            "240\n",
            "272\n",
            "306\n",
            "342\n",
            "380\n",
            "420\n",
            "462\n",
            "506\n",
            "552\n",
            "600\n",
            "650\n"
          ]
        }
      ]
    },
    {
      "cell_type": "code",
      "source": [
        "#Question14. Write a program to reverse a string using a while loop.\n",
        "\n",
        "string_1 = \"AMITABJHBACHCHAN\"\n",
        "\n",
        "for i in string_1[::-1]:\n",
        "  print(i,end=\"\")\n"
      ],
      "metadata": {
        "colab": {
          "base_uri": "https://localhost:8080/"
        },
        "id": "Bakq7-WpFHVN",
        "outputId": "6c4b2d23-5496-4569-b704-6c860764f8f5"
      },
      "execution_count": 61,
      "outputs": [
        {
          "output_type": "stream",
          "name": "stdout",
          "text": [
            "NAHCHCABHJBATIMA"
          ]
        }
      ]
    },
    {
      "cell_type": "code",
      "source": [
        "#Question15.  Write a Python program to calculate the factorial of a number provided by the user using a while loop.\n",
        "num = int(input(\"Enter a number!\"))\n",
        "fact = 1\n",
        "while (num > 0):\n",
        "  fact *= num\n",
        "  num -= 1\n",
        "  print(fact)"
      ],
      "metadata": {
        "colab": {
          "base_uri": "https://localhost:8080/"
        },
        "id": "3JWq11TmHd1i",
        "outputId": "c652cda4-25b9-496f-f09e-dd2b7ff326a7"
      },
      "execution_count": 65,
      "outputs": [
        {
          "output_type": "stream",
          "name": "stdout",
          "text": [
            "Enter a number!5\n",
            "5\n",
            "20\n",
            "60\n",
            "120\n",
            "120\n"
          ]
        }
      ]
    },
    {
      "cell_type": "code",
      "source": [],
      "metadata": {
        "id": "q7RFDc5CJyLU"
      },
      "execution_count": null,
      "outputs": []
    }
  ]
}